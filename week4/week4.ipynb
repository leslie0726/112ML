{
 "cells": [
  {
   "cell_type": "markdown",
   "id": "b5c04293",
   "metadata": {},
   "source": [
    "## 身體質量指數(Body mass index, BMI)是由體重(公斤)除以身高(公尺)的平方， BMI 的分級如下。請撰寫程式由使用者輸入其體重(公斤)及身高(公分)，然後 程式印出分級。"
   ]
  },
  {
   "cell_type": "code",
   "execution_count": 8,
   "id": "8fd5a6c7",
   "metadata": {},
   "outputs": [
    {
     "name": "stdout",
     "output_type": "stream",
     "text": [
      "請輸入身高 (cm) 與體重 (kg)：173,90\n",
      "計算出來的 BMI 為 30.1\n",
      "中度肥胖\n"
     ]
    }
   ],
   "source": [
    "height, weight = eval(input(\"請輸入身高 (cm) 與體重 (kg)：\"))\n",
    "bmi = weight / ((height / 100)**2)\n",
    "print(\"計算出來的 BMI 為\", round(bmi, 1))\n",
    "if bmi < 18.5:\n",
    "    print(\"體重過輕\")\n",
    "elif 18.5 <= bmi and bmi < 24:\n",
    "    print(\"正常範圍\")\n",
    "elif 24 <= bmi and bmi < 27:\n",
    "    print(\"體重過重\")\n",
    "elif 27 <= bmi and bmi < 30:\n",
    "    print(\"輕度肥胖\")\n",
    "elif 30 <= bmi and bmi < 35:\n",
    "    print(\"中度肥胖\")\n",
    "else:\n",
    "    print(\"重度肥胖\")"
   ]
  },
  {
   "cell_type": "markdown",
   "id": "d8cd55a4",
   "metadata": {},
   "source": [
    "\n",
    " ## 閏年(Leap year)比平年(365 天)多一天，亦即 366 天。判斷閏年的方式如下(任 一條件符合均可):能被 4 整除但不能被 100 整除者/能被 400 整除者\n",
    " \n",
    " ## 請撰寫一程式，由使用者輸入西元年，程式判斷是否為閏年。"
   ]
  },
  {
   "cell_type": "code",
   "execution_count": 17,
   "id": "6488b564",
   "metadata": {},
   "outputs": [
    {
     "name": "stdout",
     "output_type": "stream",
     "text": [
      "請輸入西元年：2022\n",
      "輸入的西元 不是閨年\n"
     ]
    }
   ],
   "source": [
    "year = int(input(\"請輸入西元年：\"))\n",
    "\n",
    "if (year & 400 == 0 or ((year % 4) == 0 and (year % 100) != 0)):\n",
    "    word = \"是閨年\"\n",
    "else:\n",
    "    word = \"不是閨年\"\n",
    "print(\"輸入的西元\", word)"
   ]
  },
  {
   "cell_type": "markdown",
   "id": "0ce453e2",
   "metadata": {},
   "source": [
    "## 請撰寫一個程式，接受使用者輸入日期，格式為 mm/dd/yyyy (month, day, year)，程式判斷該日期是否正確。例如:09/31/2011 錯誤，因為 9 月只有 30 天;02/29/2011 錯誤，因為 2011 並非閏年"
   ]
  },
  {
   "cell_type": "code",
   "execution_count": 76,
   "id": "521f7277",
   "metadata": {
    "scrolled": true
   },
   "outputs": [
    {
     "name": "stdout",
     "output_type": "stream",
     "text": [
      "請輸入日期 (mm/dd/yyyy)05/22/2011\n",
      "日期輸入正確\n"
     ]
    }
   ],
   "source": [
    "import re\n",
    "import datetime\n",
    "\n",
    "date_str = input(\"請輸入日期 (mm/dd/yyyy)\")\n",
    "date_pattern = r'\\d{2}/\\d{2}/\\d{4}'\n",
    "if not (re.match(date_pattern, date_str)):\n",
    "    print(\"格式不符\")\n",
    "else:\n",
    "    month, day, year = date_str.split(\"/\")\n",
    "    try:\n",
    "        date = datetime.date(int(year), int(month), int(day))\n",
    "        print(\"日期輸入正確\")\n",
    "    except ValueError:\n",
    "        print(\"日期輸入錯誤\")"
   ]
  },
  {
   "cell_type": "markdown",
   "id": "c774467c",
   "metadata": {},
   "source": [
    "## 如果任何大於 2 的正整數 n 為質數，則任何整數 m，2 ≤ m ≤ ，都無法整 除 n。請撰寫一程式，由使用者輸入 n，程式判斷其是否為質數。"
   ]
  },
  {
   "cell_type": "code",
   "execution_count": 63,
   "id": "3252513c",
   "metadata": {},
   "outputs": [
    {
     "name": "stdout",
     "output_type": "stream",
     "text": [
      "請輸入正整數-10\n",
      "數字有誤\n"
     ]
    }
   ],
   "source": [
    "try:\n",
    "    value = int(input(\"請輸入正整數\"))\n",
    "    if (value < 0):\n",
    "        print(\"輸入到負整數，數字有誤\")\n",
    "    elif (value == 1):\n",
    "        print(\"不是質數\")\n",
    "    else:\n",
    "        for number in range(2, value):\n",
    "            if (value % number == 0):\n",
    "                print(\"不是質數, 可被\", number, \"整除\")\n",
    "                break\n",
    "        else:\n",
    "            print(\"是質數\")\n",
    "except ValueError:\n",
    "    print(\"日期輸入錯誤\")\n",
    "    \n"
   ]
  },
  {
   "cell_type": "markdown",
   "id": "90398e68",
   "metadata": {},
   "source": [
    "## 修改上述程式，列出所有小於或等於 n 的質數。"
   ]
  },
  {
   "cell_type": "code",
   "execution_count": 74,
   "id": "f4b9d380",
   "metadata": {},
   "outputs": [
    {
     "name": "stdout",
     "output_type": "stream",
     "text": [
      "請輸入正整數100\n",
      "2 3 5 7 11 13 17 19 23 29 31 37 41 43 47 53 59 61 67 71 73 79 83 89 97 "
     ]
    }
   ],
   "source": [
    "def print_prime_numbers(value):\n",
    "    for number in range(2, value):\n",
    "        if (value % number == 0):\n",
    "            break\n",
    "    else:\n",
    "        print(value, end=\" \")\n",
    "\n",
    "try:\n",
    "    value = int(input(\"請輸入正整數\"))\n",
    "    if (value < 0):\n",
    "        print(\"輸入到負整數，數字有誤\")\n",
    "    else:\n",
    "        for number in range(2, (value + 1)):\n",
    "            print_prime_numbers(number)\n",
    "except ValueError: \n",
    "    print(\"請輸入數字\")"
   ]
  },
  {
   "cell_type": "code",
   "execution_count": null,
   "id": "b25cdeb9",
   "metadata": {},
   "outputs": [],
   "source": []
  }
 ],
 "metadata": {
  "kernelspec": {
   "display_name": "Python 3 (ipykernel)",
   "language": "python",
   "name": "python3"
  },
  "language_info": {
   "codemirror_mode": {
    "name": "ipython",
    "version": 3
   },
   "file_extension": ".py",
   "mimetype": "text/x-python",
   "name": "python",
   "nbconvert_exporter": "python",
   "pygments_lexer": "ipython3",
   "version": "3.11.4"
  }
 },
 "nbformat": 4,
 "nbformat_minor": 5
}
