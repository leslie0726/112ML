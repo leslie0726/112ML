{
 "cells": [
  {
   "cell_type": "markdown",
   "id": "b27088ea",
   "metadata": {},
   "source": [
    "## 寫一個程式能大致畫一個人臉。"
   ]
  },
  {
   "cell_type": "code",
   "execution_count": 18,
   "id": "81f6b176",
   "metadata": {},
   "outputs": [],
   "source": [
    "# pip install graphics.py\n",
    "# 執行五秒後自動關閉\n",
    "from graphics import *\n",
    "import time\n",
    "\n",
    "\n",
    "def make_face(win):\n",
    "    face_center = Point(100, 100)\n",
    "    face_circ = Circle(face_center, 99)\n",
    "    face_circ.setFill('yellow')\n",
    "    face_circ.draw(win)\n",
    "\n",
    "\n",
    "def make_eyes(win):\n",
    "    left_eye = Point(60, 70)\n",
    "    left_circ = Circle(left_eye, 20)\n",
    "    left_circ.setFill('black')\n",
    "    left_circ.draw(win)\n",
    "\n",
    "    right_circ = left_circ.clone()\n",
    "    right_circ.move(80, 0)\n",
    "    right_circ.draw(win)\n",
    "\n",
    "\n",
    "def make_mouth(win):\n",
    "    mouth = Oval(Point(70, 130), Point(130, 180))\n",
    "    mouth.setFill('black')\n",
    "    mouth.draw(win)\n",
    "\n",
    "\n",
    "def main():\n",
    "    win = GraphWin()\n",
    "    make_face(win)\n",
    "    make_eyes(win)\n",
    "    make_mouth(win)\n",
    "    time.sleep(5)\n",
    "    win.close()\n",
    "\n",
    "\n",
    "main()"
   ]
  },
  {
   "cell_type": "markdown",
   "id": "3881ccc8",
   "metadata": {},
   "source": [
    "### 寫一程式，讓使用者在視窗中利用滑鼠左鍵點擊 2 點\n",
    "### 依照該 2 個對角點繪 製長方形，並在視窗中顯示該長方形的邊界長及面積。\n",
    "### 註:兩點(x1 , y1 )及 (x2,y2)之間的直線長度為 ((x2-x1)^2 + (y2-y1)^2)^0.5"
   ]
  },
  {
   "cell_type": "code",
   "execution_count": 22,
   "id": "febc2508",
   "metadata": {},
   "outputs": [
    {
     "name": "stdout",
     "output_type": "stream",
     "text": [
      "[debug] x_length =  23.0\n",
      "[debug] y_length =  33.0\n"
     ]
    }
   ],
   "source": [
    "from graphics import *\n",
    "\n",
    "\n",
    "def get_perimeter(x, y):\n",
    "    return str(2 * (x + y))\n",
    "\n",
    "\n",
    "def get_area(x, y):\n",
    "    return str(x * y)\n",
    "\n",
    "\n",
    "def get_diagonal(x, y):\n",
    "    return str(round((x**2 + y**2)**0.5, 2))\n",
    "\n",
    "def get_point_array(win):\n",
    "    p_array = []\n",
    "    for i in range(2):\n",
    "        p = win.getMouse()\n",
    "        p_array.append(p)\n",
    "    return p_array\n",
    "\n",
    "def draw_rectangle(p_array,win):\n",
    "    rectangle = Rectangle(p_array[0], p_array[1])\n",
    "    rectangle.setFill(\"green\")\n",
    "    rectangle.setWidth(2)\n",
    "    rectangle.draw(win)\n",
    "\n",
    "def main():\n",
    "    win = GraphWin(\"Click Me!\")\n",
    "    p_array = get_point_array(win)\n",
    "    draw_rectangle(p_array,win)\n",
    "    \n",
    "    length = abs(p_array[0].getX() - p_array[1].getX())\n",
    "    width = abs(p_array[0].getY() - p_array[1].getY())\n",
    "    print('[debug] length = ', length)\n",
    "    print('[debug] width = ', width)\n",
    "\n",
    "    Text(Point(50, 140), '邊界長：' + get_perimeter(length, width)).draw(win)\n",
    "    Text(Point(47, 160), '面積：' + get_area(length, width)).draw(win)\n",
    "    Text(Point(68, 180),\n",
    "         '兩點直線長度：' + get_diagonal(length, width)).draw(win)\n",
    "    time.sleep(20)\n",
    "    win.close()\n",
    "\n",
    "\n",
    "main()"
   ]
  },
  {
   "cell_type": "markdown",
   "id": "685e9254",
   "metadata": {},
   "source": [
    "### 寫一程式，讓使用者在視窗中利用滑鼠左鍵點擊 3 點，依照該 3 點繪製三角形\n",
    "### 並在視窗中顯示該三角形的邊界長及面積。\n",
    "### 註:假設三角形的三個邊的 長度為 a、b、及 c，其面積為 (s(s-a)*(s-b)*(s-c)) ^ 0.5\n",
    "### 其中s=(a+b+c)/2"
   ]
  },
  {
   "cell_type": "code",
   "execution_count": 4,
   "id": "04c07218",
   "metadata": {},
   "outputs": [
    {
     "name": "stdout",
     "output_type": "stream",
     "text": [
      "[debug] length1= 50.01 length2= 70.11 length3= 87.62\n"
     ]
    }
   ],
   "source": [
    "from graphics import *\n",
    "\n",
    "\n",
    "# 取三角形周長\n",
    "def get_perimeter(p_array):\n",
    "    length1, length2, length3 = get_length(p_array)\n",
    "    print(\"[debug] length1=\", length1, \"length2=\", length2, \"length3=\", length3)\n",
    "    return str(round((length1 + length2 + length3), 2))\n",
    "\n",
    "# 取面積\n",
    "def get_area(p_array):\n",
    "    length1, length2, length3 = get_length(p_array)\n",
    "    s = (length1 + length2 + length3) / 2\n",
    "    return str(\n",
    "        round((s * (s - length1) * (s - length2) * (s - length3))**0.5, 2))\n",
    "\n",
    "# 取單邊長度\n",
    "def get_length(p_array):\n",
    "    return get_diagonal(p_array[0], p_array[1]), get_diagonal(\n",
    "        p_array[1], p_array[2]), get_diagonal(p_array[2], p_array[0])\n",
    "\n",
    "# 取兩點直線距離\n",
    "def get_diagonal(p1, p2):\n",
    "    x = abs(p1.getX() - p2.getX())\n",
    "    y = abs(p1.getY() - p2.getY())\n",
    "    return round((x**2 + y**2)**0.5, 2)\n",
    "\n",
    "\n",
    "def main():\n",
    "    win = GraphWin(\"Click Me!\")\n",
    "    p_array = []\n",
    "    for i in range(3):\n",
    "        p = win.getMouse()\n",
    "        p_array.append(p)\n",
    "    triangle = Polygon(p_array[0], p_array[1], p_array[2])\n",
    "    triangle.setFill(\"green\")\n",
    "    triangle.setWidth(2)\n",
    "    triangle.draw(win)\n",
    "    Text(Point(50, 140), '邊界長：' + get_perimeter(p_array)).draw(win)\n",
    "    Text(Point(47, 160), '面積：' + get_area(p_array)).draw(win)\n",
    "    time.sleep(20)\n",
    "    win.close()\n",
    "\n",
    "\n",
    "main()"
   ]
  },
  {
   "cell_type": "markdown",
   "id": "11417b7a",
   "metadata": {},
   "source": [
    "### 撰寫以下 2 個函式的定義:\n",
    "### sumN(n):回覆前n個自然數的總和\n",
    "### sumNCubes(n):回覆前n個自然數的3次方總和"
   ]
  },
  {
   "cell_type": "code",
   "execution_count": 19,
   "id": "e4681237",
   "metadata": {},
   "outputs": [
    {
     "name": "stdout",
     "output_type": "stream",
     "text": [
      "請輸入自然數(正整數)2\n",
      "sunN 的結果為 3\n",
      "sunNCubes 的結果為 9\n"
     ]
    }
   ],
   "source": [
    "def sumN(n):\n",
    "    return round((1 + n) * n / 2)\n",
    "\n",
    "\n",
    "def sunNCubes(n):\n",
    "    total = 0\n",
    "    for num in range(1, (n + 1)):\n",
    "        total += num**3\n",
    "    return total\n",
    "\n",
    "try:\n",
    "    input_value = int(input(\"請輸入自然數(正整數)\"))\n",
    "    if (input_value <= 0):\n",
    "        print(\"輸入有誤\")\n",
    "    else:\n",
    "        print(\"sunN 的結果為\", sumN(input_value))\n",
    "        print(\"sunNCubes 的結果為\", sunNCubes(input_value))\n",
    "except:\n",
    "    print(\"請輸入數字\")"
   ]
  },
  {
   "cell_type": "markdown",
   "id": "861add3b",
   "metadata": {},
   "source": [
    "### 撰寫一函式，功能如下:\n",
    "### toNumbers(strList):strList 是一個字串的串列，內含數值字串，例如:[\"32\", \"21\", \"56\"]，將串列中的每個項目改為數值。"
   ]
  },
  {
   "cell_type": "code",
   "execution_count": 27,
   "id": "d3241357",
   "metadata": {},
   "outputs": [
    {
     "name": "stdout",
     "output_type": "stream",
     "text": [
      "轉換前： ['32', 'test1', '21', '56', 'test2']\n",
      "內含無法轉換的字串： test1\n",
      "內含無法轉換的字串： test2\n",
      "轉換後： [32, 21, 56]\n",
      "<class 'int'>\n",
      "<class 'int'>\n",
      "<class 'int'>\n"
     ]
    }
   ],
   "source": [
    "def toNumbers(strList):\n",
    "    afterList = []\n",
    "    for index in range(len(strList)):\n",
    "        try:\n",
    "            afterList.append(int(strList[index]))\n",
    "        except:\n",
    "            print(\"內含無法轉換的字串：\",strList[index])\n",
    "    return afterList\n",
    "    \n",
    "strList = [\"32\",\"test1\", \"21\", \"56\",\"test2\"]\n",
    "print(\"轉換前：\",strList)\n",
    "after_list = toNumbers(strList)\n",
    "print(\"轉換後：\", after_list)\n",
    "for index in range(len(after_list)):\n",
    "        print (type(after_list[index]))\n",
    "    \n"
   ]
  },
  {
   "cell_type": "markdown",
   "id": "ef780713",
   "metadata": {},
   "source": [
    "### 撰寫一函式，功能如下:\n",
    "### drawFace(center, size, win):\n",
    "### center 是一個點(Point)\n",
    "### size 是一個整數，win 是 一個 GraphWin\n",
    "### 在給定 size 後在 win 裡畫一張臉。\n",
    "### 你的函式可以畫一張簡單 的笑(哭)臉，寫一個主程式能夠使用不同的參數來多次呼叫 drawFace()，以畫 出許多笑臉。"
   ]
  },
  {
   "cell_type": "code",
   "execution_count": 14,
   "id": "87d7892a",
   "metadata": {},
   "outputs": [
    {
     "name": "stdout",
     "output_type": "stream",
     "text": [
      "結束程式\n"
     ]
    }
   ],
   "source": [
    "# pip install graphics.py\n",
    "from graphics import *\n",
    "import time\n",
    "\n",
    "# size 100 的時候\n",
    "# 左右眼 半徑 20, 離中心往上 40 , 離中心左右 40\n",
    "# 嘴巴長 60 , 高50 , 離中心往下 30 公分\n",
    "\n",
    "size = 50\n",
    "base = 100\n",
    "persent = size / base\n",
    "\n",
    "def drawFace(center, size, win):\n",
    "    make_face(center, size, win)\n",
    "    make_eyes(center, size, win)\n",
    "    make_mouth(center, size, win)\n",
    "\n",
    "\n",
    "def make_eyes(center, size, win):\n",
    "    left_eye = Point(center.getX() - 40 * persent,\n",
    "                        center.getY() - 40 * persent)\n",
    "    left_circ = Circle(left_eye, 20 * persent)\n",
    "    left_circ.setFill('black')\n",
    "    left_circ.draw(win)\n",
    "\n",
    "    right_circ = left_circ.clone()\n",
    "    right_circ.move(80 * persent, 0)\n",
    "    right_circ.draw(win)\n",
    "    \n",
    "def make_face(center, size, win):\n",
    "    face_circ = Circle(center, size)\n",
    "    face_circ.setFill('yellow')\n",
    "    face_circ.draw(win)\n",
    "    \n",
    "def make_mouth(center, size, win):\n",
    "    mouth = Oval(\n",
    "        Point(center.getX() - 30 * persent,\n",
    "              center.getY() + 30 * persent),\n",
    "              Point(center.getX() + 30 * persent,\n",
    "                    center.getY() + 80 * persent))\n",
    "    mouth.setFill('black')\n",
    "    mouth.draw(win)\n",
    "    # 遮蔽，主要變成半圓形    \n",
    "    rectangle = Rectangle(Point(center.getX() - 30 * persent, center.getY()), Point(center.getX() + 40 * persent, center.getY()+55* persent))\n",
    "    rectangle.setFill(\"yellow\")\n",
    "    rectangle.setWidth(0)\n",
    "    rectangle.draw(win)\n",
    "    \n",
    "def main():\n",
    "    win = GraphWin(\"shock\", 500, 500)\n",
    "    try:\n",
    "        while True: \n",
    "            center = win.getMouse()\n",
    "            drawFace(center, size, win)\n",
    "    except :\n",
    "        print(\"結束程式\")\n",
    "\n",
    "main()"
   ]
  },
  {
   "cell_type": "code",
   "execution_count": null,
   "id": "d7ce7159",
   "metadata": {},
   "outputs": [],
   "source": []
  }
 ],
 "metadata": {
  "kernelspec": {
   "display_name": "Python 3 (ipykernel)",
   "language": "python",
   "name": "python3"
  },
  "language_info": {
   "codemirror_mode": {
    "name": "ipython",
    "version": 3
   },
   "file_extension": ".py",
   "mimetype": "text/x-python",
   "name": "python",
   "nbconvert_exporter": "python",
   "pygments_lexer": "ipython3",
   "version": "3.11.4"
  }
 },
 "nbformat": 4,
 "nbformat_minor": 5
}
