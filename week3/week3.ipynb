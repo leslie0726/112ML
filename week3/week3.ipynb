{
 "cells": [
  {
   "cell_type": "markdown",
   "id": "ab642965",
   "metadata": {},
   "source": [
    "## 1.利用使用者所輸入的球體半徑來計算其體積(V)及表面積(A):V = 4/3πr3 , A =4πr2m"
   ]
  },
  {
   "cell_type": "code",
   "execution_count": 116,
   "id": "14eda2d7",
   "metadata": {},
   "outputs": [
    {
     "name": "stdout",
     "output_type": "stream",
     "text": [
      "請輸入球體半徑：10\n",
      "體積為： 4186.67 ,表面積為 1256.0\n"
     ]
    }
   ],
   "source": [
    "pi = 3.14\n",
    "radius = eval(input(\"請輸入球體半徑：\"))\n",
    "volume = (4 / 3) * pi * (radius**3)\n",
    "surface_area = 4 * pi * (radius**2)\n",
    "print(\"體積為：\", round(volume, 2), \",表面積為\", surface_area)"
   ]
  },
  {
   "cell_type": "markdown",
   "id": "5faf56c5",
   "metadata": {},
   "source": [
    "## 2.工人欲粉刷某個高度的牆壁，所需使用梯子的長度為何?由使用者輸入高度 及梯子與地面的角度。"
   ]
  },
  {
   "cell_type": "code",
   "execution_count": 118,
   "id": "15822e7c",
   "metadata": {
    "scrolled": true
   },
   "outputs": [
    {
     "name": "stdout",
     "output_type": "stream",
     "text": [
      "請輸入牆壁高度, 梯子與地面的角度10,30\n",
      "梯子高度為 20.0\n"
     ]
    }
   ],
   "source": [
    "import math\n",
    "\n",
    "ladder_length, degress = eval(input(\"請輸入牆壁高度, 梯子與地面的角度\"))\n",
    "sin = math.sin(math.radians(degress))\n",
    "print(\"梯子高度為\", round(ladder_length / sin, 2))"
   ]
  },
  {
   "cell_type": "markdown",
   "id": "552fd06d",
   "metadata": {},
   "source": [
    "### 3.π 的近似值可以如此計算:4/1 – 4/3 + 4/5 – 4/7 + 4/9 – 4/11 + ...，令使用者輸 入要計算幾個項目，然後計算 π 的近似值。"
   ]
  },
  {
   "cell_type": "code",
   "execution_count": 121,
   "id": "6dffe7d1",
   "metadata": {},
   "outputs": [
    {
     "name": "stdout",
     "output_type": "stream",
     "text": [
      "請輸入次數2\n",
      "結果為 2.67\n"
     ]
    }
   ],
   "source": [
    "run_count = eval(input(\"請輸入次數\"))\n",
    "result = 0\n",
    "for i in range(run_count):\n",
    "    index = i + 1\n",
    "    value = (4 / (index * 2 - 1))\n",
    "    if index % 2 == 1:\n",
    "        result += value\n",
    "    else:\n",
    "        result -= value\n",
    "print(\"結果為\", round(result, 2))"
   ]
  },
  {
   "cell_type": "markdown",
   "id": "b538bdd9",
   "metadata": {},
   "source": [
    "### 4.將 avg2.py 程式改為計算 3 個分數的平均值。"
   ]
  },
  {
   "cell_type": "code",
   "execution_count": 16,
   "id": "72b31466",
   "metadata": {},
   "outputs": [
    {
     "name": "stdout",
     "output_type": "stream",
     "text": [
      "This program computes the average of three exam scores.\n",
      "enter three scores sparated by a comma:2,2,2\n",
      "The average of the scores is: 2.0\n"
     ]
    }
   ],
   "source": [
    "print(\"This program computes the average of three exam scores.\")\n",
    "score1, score2, score3 = eval(input(\"enter three scores sparated by a comma:\"))\n",
    "average = (score1 + score2 + score3) / 3\n",
    "print(\"The average of the scores is:\", average)"
   ]
  },
  {
   "cell_type": "markdown",
   "id": "542329d8",
   "metadata": {},
   "source": [
    "### 5.將 convert.py 程式改為利用 for 迴圈計算 5 次度數轉換。"
   ]
  },
  {
   "cell_type": "code",
   "execution_count": 122,
   "id": "0822866a",
   "metadata": {},
   "outputs": [
    {
     "name": "stdout",
     "output_type": "stream",
     "text": [
      "What is the Celsius temperature?10\n",
      "The temperature is 50.0 degree Fahrenheit.\n",
      "What is the Celsius temperature?20\n",
      "The temperature is 68.0 degree Fahrenheit.\n",
      "What is the Celsius temperature?30\n",
      "The temperature is 86.0 degree Fahrenheit.\n",
      "What is the Celsius temperature?40\n",
      "The temperature is 104.0 degree Fahrenheit.\n",
      "What is the Celsius temperature?50\n",
      "The temperature is 122.0 degree Fahrenheit.\n"
     ]
    }
   ],
   "source": [
    "for count in range(5):\n",
    "    celsius = eval(input(\"What is the Celsius temperature?\"))\n",
    "    fahrenheit = (9 / 5) * celsius + 32\n",
    "    print(\"The temperature is\", fahrenheit, \"degree Fahrenheit.\")"
   ]
  },
  {
   "cell_type": "markdown",
   "id": "6c1c58d0",
   "metadata": {},
   "source": [
    "### 6.將 futval.py 程式改為依照使用者指定年限來計算未來價值。"
   ]
  },
  {
   "cell_type": "code",
   "execution_count": 129,
   "id": "601402c8",
   "metadata": {},
   "outputs": [
    {
     "name": "stdout",
     "output_type": "stream",
     "text": [
      "This program calculates the future value\n",
      "of a year investment.\n",
      "Enter the initial principal: 10000\n",
      "Enter the annual interest rate:0.01\n",
      "Enter the years:2\n",
      "10100.0\n",
      "10201.0\n",
      "The value in 10 years is: 10201\n"
     ]
    }
   ],
   "source": [
    "print(\"This program calculates the future value\")\n",
    "print(\"of a year investment.\")\n",
    "principal = eval(input(\"Enter the initial principal: \"))\n",
    "apr = eval(input(\"Enter the annual interest rate:\"))\n",
    "year = eval(input(\"Enter the years:\"))\n",
    "for i in range(year):\n",
    "    principal = principal * (1 + apr)\n",
    "print(\"The value in 10 years is:\", round(principal))"
   ]
  },
  {
   "cell_type": "markdown",
   "id": "5f4a8d88",
   "metadata": {},
   "source": [
    "### 7.撰寫程式計算兩個正整數的最大公因數(Greatest common divisor, GCD)。\n",
    "### 假設 g 是兩個正整數 n 及 m 的最大公因數，因此 n 及 m 都是g 的倍數。\n",
    "### 歐幾里德 (Euclid)依據中國餘數定理(Chinese Remainder Theorem)提出了計算 GCD 的簡單演算法 \n",
    "### g = GCD(n, m)，n > m:主要概念為從 n、m 開始，重複計算一序列 的餘數直到最後餘數為0。\n",
    "### 例如:n = 80,844, m = 25,320，g = GCD(80844, 25320) = 12:"
   ]
  },
  {
   "cell_type": "code",
   "execution_count": 131,
   "id": "3a57b163",
   "metadata": {},
   "outputs": [
    {
     "name": "stdout",
     "output_type": "stream",
     "text": [
      "請輸入 n 跟 m , 中間用「,」隔開80844,25320\n",
      "result =  12\n"
     ]
    }
   ],
   "source": [
    "n, m = eval(input(\"請輸入 n 跟 m , 中間用「,」隔開\"))\n",
    "mod_value = 0\n",
    "\n",
    "if m > n:\n",
    "    tmp = n\n",
    "    n = m\n",
    "    m = tmp\n",
    "\n",
    "while True:\n",
    "    mod_value = n % m\n",
    "    if (mod_value != 0):\n",
    "        n = m\n",
    "        m = mod_value\n",
    "    else:\n",
    "        break\n",
    "print(\"result = \", m)"
   ]
  },
  {
   "cell_type": "markdown",
   "id": "9d5ef991",
   "metadata": {},
   "source": [
    "## 8.寫一個互動式程式，讓使用者能夠輸入數值計算表示式，然後印出最後計算 值。加入一個 for 迴圈讓使用者能一直輸入表示式。程式如何結束?當使用 者輸入錯誤表示式時，讓程式當掉。"
   ]
  },
  {
   "cell_type": "code",
   "execution_count": 1,
   "id": "bd4ecf02",
   "metadata": {},
   "outputs": [
    {
     "name": "stdout",
     "output_type": "stream",
     "text": [
      "請輸入數值計算表示式（輸入'exit'結束程式）: 1+2\n",
      "計算結果: 3\n",
      "請輸入數值計算表示式（輸入'exit'結束程式）: aaa\n",
      "輸入錯誤的表示式，請重新輸入: name 'aaa' is not defined\n",
      "請輸入數值計算表示式（輸入'exit'結束程式）: exit\n",
      "程式已退出。\n"
     ]
    }
   ],
   "source": [
    "import sys\n",
    "\n",
    "while True:\n",
    "    try:\n",
    "        expression = input(\"請輸入數值計算表示式（輸入'exit'結束程式）: \")\n",
    "        \n",
    "        if expression.lower() == 'exit':\n",
    "            print(\"程式已退出。\")\n",
    "            break\n",
    "        \n",
    "        result = eval(expression)\n",
    "        print(\"計算結果:\", result)\n",
    "    except Exception as e:\n",
    "        print(\"輸入錯誤的表示式，請重新輸入:\", e)"
   ]
  },
  {
   "cell_type": "markdown",
   "id": "ea7767c5",
   "metadata": {},
   "source": [
    "## 9 許多老師將學生成績以等級來記錄:90 - 100:A，80 - 89:B，70 - 79:C， 60 - 69:D，0 - 59:F。請寫程式讓使用者輸入一個分數，然後程式印出其等級。"
   ]
  },
  {
   "cell_type": "code",
   "execution_count": 40,
   "id": "a94a41e8",
   "metadata": {},
   "outputs": [
    {
     "name": "stdout",
     "output_type": "stream",
     "text": [
      "請輸入分數-1\n",
      "invalid value\n"
     ]
    }
   ],
   "source": [
    "score = eval(input(\"請輸入分數\"))\n",
    "if score >= 101:\n",
    "    print(\"invalid value\")\n",
    "elif score >= 90:\n",
    "    print(\"A\")\n",
    "elif score >= 80:\n",
    "    print(\"B\")\n",
    "elif score >= 70:\n",
    "    print(\"C\")\n",
    "elif score >= 60:\n",
    "    print(\"D\")\n",
    "elif score <= 59 and score > 0:\n",
    "    print(\"F\")\n",
    "else:\n",
    "    print(\"invalid value\")"
   ]
  },
  {
   "cell_type": "markdown",
   "id": "fdf0cc25",
   "metadata": {},
   "source": [
    "## 承上題，程式讀取一個檔案，檔案中每行都是一個 0~100 的分數，將每行分 數轉為等級後，產生一個輸出等級檔案。"
   ]
  },
  {
   "cell_type": "code",
   "execution_count": 44,
   "id": "71767edb",
   "metadata": {},
   "outputs": [
    {
     "name": "stdout",
     "output_type": "stream",
     "text": [
      "分數為 0 轉換後分數為 invalid value\n",
      "分數為 59 轉換後分數為 F\n",
      "分數為 68 轉換後分數為 D\n",
      "分數為 77 轉換後分數為 C\n",
      "分數為 89 轉換後分數為 B\n",
      "分數為 99 轉換後分數為 A\n",
      "分數為 100 轉換後分數為 A\n"
     ]
    }
   ],
   "source": [
    "score_file = open(\"week3.txt\", \"r\")\n",
    "score_array = score_file.readlines()\n",
    "for score in score_array:\n",
    "    score = int(score)\n",
    "    if score >= 101:\n",
    "        result = \"invalid value\"\n",
    "    elif score >= 90:\n",
    "        result = \"A\"\n",
    "    elif score >= 80:\n",
    "        result = \"B\"\n",
    "    elif score >= 70:\n",
    "        result = \"C\"\n",
    "    elif score >= 60:\n",
    "        result = \"D\"\n",
    "    elif score <= 59 and score > 0:\n",
    "        result = \"F\"\n",
    "    else:\n",
    "        result = \"invalid value\"\n",
    "    print(\"分數為\", score, \"轉換後分數為\", result)"
   ]
  },
  {
   "cell_type": "markdown",
   "id": "702597ac",
   "metadata": {},
   "source": [
    "## 首字縮寫字(Acronym)是將許多字的第一個字母取出並改為大寫後所組成的字 ，例如 RAM 是\"random access memory\"的縮寫字。請撰寫程式讓使用者輸入 一組字，然後印出首字縮寫字。"
   ]
  },
  {
   "cell_type": "code",
   "execution_count": 136,
   "id": "c9448250",
   "metadata": {},
   "outputs": [
    {
     "name": "stdout",
     "output_type": "stream",
     "text": [
      "result:  MNIL\n"
     ]
    }
   ],
   "source": [
    "introduction = \"My name is leslie\"\n",
    "\n",
    "word_array = introduction.split()\n",
    "result = \"\"\n",
    "for word in word_array:\n",
    "    result += word[0]\n",
    "print(\"result: \", result.upper())"
   ]
  },
  {
   "cell_type": "markdown",
   "id": "3532d02d",
   "metadata": {},
   "source": [
    "# 許多命理學家宣稱他們可以藉由一個人的生日決定一個人的人格特質，人格 特質數字是由生日的數字持續相加而來，例如:1976 年 11月 25 日，人格特 質數字為 1976 + 25 + 11 = 2012 = 2 + 0 + 1 + 2 = 直到剩下一個個位數字。請 撰寫程式，使用者輸入其生日(格式:mm/dd/yyyy)，程式輸出其數值。"
   ]
  },
  {
   "cell_type": "code",
   "execution_count": 138,
   "id": "cc7f3ff5",
   "metadata": {},
   "outputs": [
    {
     "name": "stdout",
     "output_type": "stream",
     "text": [
      "請輸入生日 (mm/dd/yyyy)07/26/1997\n",
      "07 26 1997\n",
      "結果為 5\n"
     ]
    }
   ],
   "source": [
    "birthday_str = input(\"請輸入生日 (mm/dd/yyyy)\")\n",
    "month, day, year = birthday_str.split(\"/\")\n",
    "print(month, day, year)\n",
    "result = int(month) + int(day) + int(year)\n",
    "while True:\n",
    "    tmp = 0\n",
    "    for number in str(result):\n",
    "        tmp += int(number)\n",
    "    result = tmp\n",
    "    if (result < 10):\n",
    "        break\n",
    "print(\"結果為\", result)"
   ]
  },
  {
   "cell_type": "markdown",
   "id": "67bad380",
   "metadata": {},
   "source": [
    "## 輸入若干n個數字，輸出指定第k大的數字。如果k=0就結束程式。"
   ]
  },
  {
   "cell_type": "code",
   "execution_count": 144,
   "id": "fee6d444",
   "metadata": {},
   "outputs": [
    {
     "name": "stdout",
     "output_type": "stream",
     "text": [
      "第一個輸入n ，後續輸入 n 個數字，再後續繼續輸入第幾大的數字，直到輸入0 (全程用半形空白)6 8 15 29 35 47 77 3 2 4 1 0\n",
      "['3', '2', '4', '1']\n",
      "第 3 的數字是: 35\n",
      "第 2 的數字是: 47\n",
      "第 4 的數字是: 29\n",
      "第 1 的數字是: 77\n"
     ]
    }
   ],
   "source": [
    "input_value = input(\"第一個輸入n ，後續輸入 n 個數字，再後續繼續輸入第幾大的數字，直到輸入0 (全程用半形空白)\")\n",
    "array_length = input_value.split()[0]\n",
    "number_str_array = input_value.split()[1:(int(array_length) + 1)]\n",
    "\n",
    "for n_index in range(len(number_str_array)):\n",
    "    number_array[n_index] = int(number_array[n_index])\n",
    "number_array.sort(reverse=True)\n",
    "\n",
    "print(input_value.split()[(int(array_length) + 1):-1])\n",
    "for k_index in input_value.split()[(int(array_length) + 1):-1]:\n",
    "    print(\"第\", k_index, \"的數字是:\", number_array[int(k_index) - 1])"
   ]
  },
  {
   "cell_type": "markdown",
   "id": "f113b5df",
   "metadata": {},
   "source": [
    "## 設計一個薪資試算程式，要求使用者輸入月薪為何? 以及工作年數為何?並結算該年之中可以獲得多少薪資?以及平均每日賺得多少薪資?"
   ]
  },
  {
   "cell_type": "code",
   "execution_count": 139,
   "id": "4ba51f8e",
   "metadata": {},
   "outputs": [
    {
     "name": "stdout",
     "output_type": "stream",
     "text": [
      "請輸入月薪跟工作年數50000,2020\n",
      "一年可取得的薪資為 600000 ,平均每日薪資為 1639\n"
     ]
    }
   ],
   "source": [
    "salary, year = eval(input(\"請輸入月薪跟工作年數\"))\n",
    "year_salary = salary * 12\n",
    "if (year % 4 == 0):\n",
    "    if (year % 100 == 0):\n",
    "        if (year % 400 == 0):\n",
    "            day = 366\n",
    "        else:\n",
    "            day = 365\n",
    "    else:\n",
    "        day = 366\n",
    "else:\n",
    "    day = 365\n",
    "daily_salary = year_salary / day\n",
    "\n",
    "print(\"一年可取得的薪資為\", year_salary, \",平均每日薪資為\", round(daily_salary))"
   ]
  },
  {
   "cell_type": "markdown",
   "id": "5a29f361",
   "metadata": {},
   "source": [
    "## 使用 range() 的方式，設計九九乘法表，將『數字1』到『數字81』print 出來 。"
   ]
  },
  {
   "cell_type": "code",
   "execution_count": 105,
   "id": "d4f79819",
   "metadata": {},
   "outputs": [
    {
     "name": "stdout",
     "output_type": "stream",
     "text": [
      "1*1=1,\t1*2=2,\t1*3=3,\t1*4=4,\t1*5=5,\t1*6=6,\t1*7=7,\t1*8=8,\t1*9=9\n",
      "2*1=2,\t2*2=4,\t2*3=6,\t2*4=8,\t2*5=10,\t2*6=12,\t2*7=14,\t2*8=16,\t2*9=18\n",
      "3*1=3,\t3*2=6,\t3*3=9,\t3*4=12,\t3*5=15,\t3*6=18,\t3*7=21,\t3*8=24,\t3*9=27\n",
      "4*1=4,\t4*2=8,\t4*3=12,\t4*4=16,\t4*5=20,\t4*6=24,\t4*7=28,\t4*8=32,\t4*9=36\n",
      "5*1=5,\t5*2=10,\t5*3=15,\t5*4=20,\t5*5=25,\t5*6=30,\t5*7=35,\t5*8=40,\t5*9=45\n",
      "6*1=6,\t6*2=12,\t6*3=18,\t6*4=24,\t6*5=30,\t6*6=36,\t6*7=42,\t6*8=48,\t6*9=54\n",
      "7*1=7,\t7*2=14,\t7*3=21,\t7*4=28,\t7*5=35,\t7*6=42,\t7*7=49,\t7*8=56,\t7*9=63\n",
      "8*1=8,\t8*2=16,\t8*3=24,\t8*4=32,\t8*5=40,\t8*6=48,\t8*7=56,\t8*8=64,\t8*9=72\n",
      "9*1=9,\t9*2=18,\t9*3=27,\t9*4=36,\t9*5=45,\t9*6=54,\t9*7=63,\t9*8=72,\t9*9=81\n"
     ]
    }
   ],
   "source": [
    "for x in range(1, 10):\n",
    "    line = \"\"\n",
    "    for y in range(1, 10):\n",
    "        line += str(x) + \"*\" + str(y) + \"=\" + str(x * y) + \",\\t\"\n",
    "    print(line[:-2])"
   ]
  },
  {
   "cell_type": "code",
   "execution_count": null,
   "id": "715bb16d",
   "metadata": {},
   "outputs": [],
   "source": []
  }
 ],
 "metadata": {
  "kernelspec": {
   "display_name": "Python 3 (ipykernel)",
   "language": "python",
   "name": "python3"
  },
  "language_info": {
   "codemirror_mode": {
    "name": "ipython",
    "version": 3
   },
   "file_extension": ".py",
   "mimetype": "text/x-python",
   "name": "python",
   "nbconvert_exporter": "python",
   "pygments_lexer": "ipython3",
   "version": "3.11.4"
  }
 },
 "nbformat": 4,
 "nbformat_minor": 5
}
